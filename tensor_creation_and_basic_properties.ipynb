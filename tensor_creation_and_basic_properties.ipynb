{
  "nbformat": 4,
  "nbformat_minor": 0,
  "metadata": {
    "colab": {
      "provenance": [],
      "authorship_tag": "ABX9TyNMkhk6IYv3+mJ5YwfDxzWm",
      "include_colab_link": true
    },
    "kernelspec": {
      "name": "python3",
      "display_name": "Python 3"
    },
    "language_info": {
      "name": "python"
    }
  },
  "cells": [
    {
      "cell_type": "markdown",
      "metadata": {
        "id": "view-in-github",
        "colab_type": "text"
      },
      "source": [
        "<a href=\"https://colab.research.google.com/github/Jenoprabakar/TensorFlow-lab_experiments/blob/main/tensor_creation_and_basic_properties.ipynb\" target=\"_parent\"><img src=\"https://colab.research.google.com/assets/colab-badge.svg\" alt=\"Open In Colab\"/></a>"
      ]
    },
    {
      "cell_type": "code",
      "execution_count": null,
      "metadata": {
        "colab": {
          "base_uri": "https://localhost:8080/"
        },
        "id": "JXh3CpyWtOnr",
        "outputId": "d6376fc0-c8ac-4a62-dc99-30a30f9b43a4"
      },
      "outputs": [
        {
          "output_type": "stream",
          "name": "stdout",
          "text": [
            "\n",
            "Scalar (0-D):\n",
            "Value:\n",
            "2\n",
            "Shape: ()\n",
            "Dtype: <dtype: 'int32'>\n",
            "Rank: 0\n",
            "\n",
            "Vector (1-D):\n",
            "Value:\n",
            "[10 20 30 40 50]\n",
            "Shape: (5,)\n",
            "Dtype: <dtype: 'int32'>\n",
            "Rank: 1\n",
            "\n",
            "Matrix (2-D):\n",
            "Value:\n",
            "[[1 2]\n",
            " [3 4]\n",
            " [5 6]]\n",
            "Shape: (3, 2)\n",
            "Dtype: <dtype: 'int32'>\n",
            "Rank: 2\n",
            "\n",
            "3-D Tensor:\n",
            "Value:\n",
            "[[[ 1  2  3]\n",
            "  [ 4  5  6]]\n",
            "\n",
            " [[ 7  8  9]\n",
            "  [10 11 12]]]\n",
            "Shape: (2, 2, 3)\n",
            "Dtype: <dtype: 'int32'>\n",
            "Rank: 3\n",
            "\n",
            "Zeros Tensor (3x3):\n",
            "Value:\n",
            "[[0. 0. 0.]\n",
            " [0. 0. 0.]\n",
            " [0. 0. 0.]]\n",
            "Shape: (3, 3)\n",
            "Dtype: <dtype: 'float32'>\n",
            "Rank: 2\n",
            "\n",
            "Ones Tensor (2x4):\n",
            "Value:\n",
            "[[1. 1. 1. 1.]\n",
            " [1. 1. 1. 1.]]\n",
            "Shape: (2, 4)\n",
            "Dtype: <dtype: 'float32'>\n",
            "Rank: 2\n",
            "\n",
            "Constant Tensor (2x2x2):\n",
            "Value:\n",
            "[[[7 7]\n",
            "  [7 7]]\n",
            "\n",
            " [[7 7]\n",
            "  [7 7]]]\n",
            "Shape: (2, 2, 2)\n",
            "Dtype: <dtype: 'int32'>\n",
            "Rank: 3\n",
            "\n",
            "Random Normal Tensor (3x3):\n",
            "Value:\n",
            "[[-1.2758533   1.8750099   0.5708747 ]\n",
            " [ 0.0057637   0.6017255   0.7954214 ]\n",
            " [ 0.8391036  -0.36677358  1.0699039 ]]\n",
            "Shape: (3, 3)\n",
            "Dtype: <dtype: 'float32'>\n",
            "Rank: 2\n",
            "\n",
            "Random Uniform Tensor (2x3):\n",
            "Value:\n",
            "[[0.7497275  4.742275   4.991975  ]\n",
            " [0.98486066 5.5208073  7.9694295 ]]\n",
            "Shape: (2, 3)\n",
            "Dtype: <dtype: 'float32'>\n",
            "Rank: 2\n"
          ]
        }
      ],
      "source": [
        "import tensorflow as tf\n",
        "scalar = tf.constant(2)\n",
        "vector = tf.constant([10, 20, 30, 40, 50])\n",
        "matrix = tf.constant([[1, 2], [3, 4], [5, 6]])\n",
        "tensor_3d = tf.constant([\n",
        "    [[1, 2, 3], [4, 5, 6]],\n",
        "    [[7, 8, 9], [10, 11, 12]]\n",
        "])\n",
        "zeros_tensor = tf.zeros([3, 3])\n",
        "ones_tensor = tf.ones([2, 4])\n",
        "constant_tensor = tf.constant(7, shape=[2, 2, 2])\n",
        "random_normal_tensor = tf.random.normal(shape=[3, 3], mean=0.0, stddev=1.0)\n",
        "random_uniform_tensor = tf.random.uniform(shape=[2, 3], minval=0, maxval=10)\n",
        "\n",
        "def print_tensor_info(name, tensor):\n",
        "    print(f\"\\n{name}:\")\n",
        "    print(f\"Value:\\n{tensor.numpy()}\")\n",
        "    print(f\"Shape: {tensor.shape}\")\n",
        "    print(f\"Dtype: {tensor.dtype}\")\n",
        "    print(f\"Rank: {tf.rank(tensor).numpy()}\")\n",
        "\n",
        "print_tensor_info(\"Scalar (0-D)\", scalar)\n",
        "print_tensor_info(\"Vector (1-D)\", vector)\n",
        "print_tensor_info(\"Matrix (2-D)\", matrix)\n",
        "print_tensor_info(\"3-D Tensor\", tensor_3d)\n",
        "print_tensor_info(\"Zeros Tensor (3x3)\", zeros_tensor)\n",
        "print_tensor_info(\"Ones Tensor (2x4)\", ones_tensor)\n",
        "print_tensor_info(\"Constant Tensor (2x2x2)\", constant_tensor)\n",
        "print_tensor_info(\"Random Normal Tensor (3x3)\", random_normal_tensor)\n",
        "print_tensor_info(\"Random Uniform Tensor (2x3)\", random_uniform_tensor)\n"
      ]
    },
    {
      "cell_type": "code",
      "source": [
        "import tensorflow as tf\n",
        "vector = tf.constant([10, 20, 30, 40, 50, 60])\n",
        "matrix = tf.constant([[1, 2], [3, 4], [5, 6]])\n",
        "tensor_3d = tf.constant([\n",
        "    [[1, 2, 3], [4, 5, 6]],\n",
        "    [[7, 8, 9], [10, 11, 12]]\n",
        "])\n",
        "def show_tensor(name, tensor):\n",
        "    print(f\"\\n{name}\")\n",
        "    print(\"Value:\\n\", tensor.numpy())\n",
        "    print(\"Shape:\", tensor.shape)\n",
        "    print(\"Rank:\", tf.rank(tensor).numpy())\n",
        "\n",
        "reshaped_vector = tf.reshape(vector, [2, -1])\n",
        "show_tensor(\"Reshaped Vector (1D → 2x3)\", reshaped_vector)\n",
        "\n",
        "reshaped_matrix = tf.reshape(matrix, [2, -1])\n",
        "show_tensor(\"Reshaped Matrix (2D → 2x3)\", reshaped_matrix)\n",
        "\n",
        "reshaped_tensor_3d = tf.reshape(tensor_3d, [2, -1])\n",
        "show_tensor(\"Reshaped 3D Tensor (→ 2x6)\", reshaped_tensor_3d)\n"
      ],
      "metadata": {
        "colab": {
          "base_uri": "https://localhost:8080/"
        },
        "id": "p42Pc4ojxW-B",
        "outputId": "d105f05a-70e2-4f57-ace7-f70dd68bf1b4"
      },
      "execution_count": null,
      "outputs": [
        {
          "output_type": "stream",
          "name": "stdout",
          "text": [
            "\n",
            "Reshaped Vector (1D → 2x3)\n",
            "Value:\n",
            " [[10 20 30]\n",
            " [40 50 60]]\n",
            "Shape: (2, 3)\n",
            "Rank: 2\n",
            "\n",
            "Reshaped Matrix (2D → 2x3)\n",
            "Value:\n",
            " [[1 2 3]\n",
            " [4 5 6]]\n",
            "Shape: (2, 3)\n",
            "Rank: 2\n",
            "\n",
            "Reshaped 3D Tensor (→ 2x6)\n",
            "Value:\n",
            " [[ 1  2  3  4  5  6]\n",
            " [ 7  8  9 10 11 12]]\n",
            "Shape: (2, 6)\n",
            "Rank: 2\n"
          ]
        }
      ]
    },
    {
      "cell_type": "code",
      "source": [
        "import tensorflow as tf\n",
        "tensor = tf.constant([\n",
        "    [1, 2, 3],\n",
        "    [4, 5, 6],\n",
        "    [7, 8, 9]\n",
        "])\n",
        "first_row = tensor[0]\n",
        "second_row = tensor[1]\n",
        "bottom_right = tensor[2, 2]\n",
        "submatrix_2x2 = tensor[:2, :2]\n",
        "print(\"Original Tensor:\\n\", tensor.numpy())\n",
        "print(\"\\nFirst Row:\", first_row.numpy())\n",
        "print(\"Second Row:\", second_row.numpy())\n",
        "print(\"Bottom-right Element:\", bottom_right.numpy())\n",
        "print(\"2x2 Submatrix:\\n\", submatrix_2x2.numpy())\n"
      ],
      "metadata": {
        "colab": {
          "base_uri": "https://localhost:8080/"
        },
        "id": "JnkJAXOJy9Qf",
        "outputId": "f98f1a8a-baa9-4e7b-e8fc-a58db45e1913"
      },
      "execution_count": null,
      "outputs": [
        {
          "output_type": "stream",
          "name": "stdout",
          "text": [
            "Original Tensor:\n",
            " [[1 2 3]\n",
            " [4 5 6]\n",
            " [7 8 9]]\n",
            "\n",
            "First Row: [1 2 3]\n",
            "Second Row: [4 5 6]\n",
            "Bottom-right Element: 9\n",
            "2x2 Submatrix:\n",
            " [[1 2]\n",
            " [4 5]]\n"
          ]
        }
      ]
    },
    {
      "cell_type": "code",
      "source": [
        "import tensorflow as tf\n",
        "int_tensor = tf.constant([1, 2, 3], dtype=tf.int32)\n",
        "float_tensor = tf.cast(int_tensor, dtype=tf.float32)\n",
        "print(\"\\nConverted Tensor (float32):\", float_tensor.numpy())\n",
        "print(\"Dtype:\", float_tensor.dtype)\n"
      ],
      "metadata": {
        "colab": {
          "base_uri": "https://localhost:8080/"
        },
        "id": "0ES_PlR_znr8",
        "outputId": "56be2f45-501c-446a-976d-82ec7a42fdce"
      },
      "execution_count": null,
      "outputs": [
        {
          "output_type": "stream",
          "name": "stdout",
          "text": [
            "\n",
            "Converted Tensor (float32): [1. 2. 3.]\n",
            "Dtype: <dtype: 'float32'>\n"
          ]
        }
      ]
    },
    {
      "cell_type": "code",
      "source": [
        "import tensorflow as tf\n",
        "\n",
        "tensor = tf.random.uniform([2, 3], minval=0, maxval=10, dtype=tf.int32)\n",
        "print(\"Original Integer Tensor:\\n\", tensor.numpy())\n",
        "print(\"Shape:\", tensor.shape, \"Dtype:\", tensor.dtype)\n",
        "\n",
        "reshaped = tf.reshape(tensor, [3, 2])\n",
        "print(\"\\nReshaped Tensor:\\n\", reshaped.numpy())\n",
        "print(\"Shape:\", reshaped.shape)\n",
        "\n",
        "converted = tf.cast(reshaped, dtype=tf.float32)\n",
        "print(\"\\nConverted to float32:\\n\", converted.numpy())\n",
        "print(\"Dtype:\", converted.dtype)\n",
        "\n",
        "added = converted + 0.5\n",
        "print(\"\\nAfter Adding 0.5:\\n\", added.numpy())\n"
      ],
      "metadata": {
        "colab": {
          "base_uri": "https://localhost:8080/"
        },
        "id": "wkh82DOjz3gJ",
        "outputId": "5e782af0-5f33-4718-8bfe-6355140669ce"
      },
      "execution_count": null,
      "outputs": [
        {
          "output_type": "stream",
          "name": "stdout",
          "text": [
            "Original Integer Tensor:\n",
            " [[7 4 2]\n",
            " [5 7 6]]\n",
            "Shape: (2, 3) Dtype: <dtype: 'int32'>\n",
            "\n",
            "Reshaped Tensor:\n",
            " [[7 4]\n",
            " [2 5]\n",
            " [7 6]]\n",
            "Shape: (3, 2)\n",
            "\n",
            "Converted to float32:\n",
            " [[7. 4.]\n",
            " [2. 5.]\n",
            " [7. 6.]]\n",
            "Dtype: <dtype: 'float32'>\n",
            "\n",
            "After Adding 0.5:\n",
            " [[7.5 4.5]\n",
            " [2.5 5.5]\n",
            " [7.5 6.5]]\n"
          ]
        }
      ]
    }
  ]
}