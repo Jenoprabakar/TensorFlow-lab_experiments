{
  "nbformat": 4,
  "nbformat_minor": 0,
  "metadata": {
    "colab": {
      "provenance": [],
      "authorship_tag": "ABX9TyPLXvzCKT8X7RTVgwF6U89M",
      "include_colab_link": true
    },
    "kernelspec": {
      "name": "python3",
      "display_name": "Python 3"
    },
    "language_info": {
      "name": "python"
    }
  },
  "cells": [
    {
      "cell_type": "markdown",
      "metadata": {
        "id": "view-in-github",
        "colab_type": "text"
      },
      "source": [
        "<a href=\"https://colab.research.google.com/github/Jenoprabakar/TensorFlow-lab_experiments/blob/main/data_pipelines.ipynb\" target=\"_parent\"><img src=\"https://colab.research.google.com/assets/colab-badge.svg\" alt=\"Open In Colab\"/></a>"
      ]
    },
    {
      "cell_type": "code",
      "execution_count": null,
      "metadata": {
        "id": "A9oxvcydWBH1"
      },
      "outputs": [],
      "source": [
        "#Write a TensorFlow program that creates a data pipeline using tf.data for the Wine Quality dataset (including normalization, batching, and shuffling), builds and trains a feedforward neural network for wine quality classification, saves the trained model in both SavedModel and HDF5 formats, and finally reloads the saved models to evaluate their accuracy on the test dataset.\n",
        "\n",
        "\n",
        "import tensorflow as tf\n",
        "from tensorflow import keras\n",
        "from tensorflow.keras import layers\n",
        "import pandas as pd\n",
        "from sklearn.model_selection import train_test_split\n",
        "from sklearn.preprocessing import StandardScaler\n",
        "import numpy as np\n",
        "data = pd.read_csv('winequality-red.csv') # replace with your path\n",
        "X = data.drop('quality', axis=1).values\n",
        "y = data['quality'].values\n",
        "y_classes = np.where(y <= 5, 0, np.where(y == 6, 1, 2))\n",
        "X_train, X_test, y_train, y_test = train_test_split(\n",
        "X, y_classes, test_size=0.2, random_state=42\n",
        ")\n",
        "scaler = StandardScaler()\n",
        "X_train = scaler.fit_transform(X_train)\n",
        "X_test = scaler.transform(X_test)\n",
        "batch_size = 32\n",
        "2303717624321023\n",
        "\n",
        "\n",
        "train_dataset = tf.data.Dataset.from_tensor_slices((X_train, y_train))\n",
        "train_dataset = train_dataset.shuffle(buffer_size=1000).batch(batch_size)\n",
        "test_dataset = tf.data.Dataset.from_tensor_slices((X_test, y_test))\n",
        "test_dataset = test_dataset.batch(batch_size)\n",
        "model = keras.Sequential([\n",
        "layers.Input(shape=(X_train.shape[1],)),\n",
        "layers.Dense(64, activation='relu'),\n",
        "layers.Dense(32, activation='relu'),\n",
        "layers.Dense(3, activation='softmax') # 3 classes\n",
        "])\n",
        "model.compile(\n",
        "optimizer='adam',\n",
        "loss='sparse_categorical_crossentropy',\n",
        "metrics=['accuracy']\n",
        ")\n",
        "model.summary()\n",
        "history= model.fit(\n",
        "train_dataset,\n",
        "validation_data=test_dataset,\n",
        "epochs=50\n",
        ")\n",
        "model.save('wine_model.keras')\n",
        "model.save('wine_model.h5')\n",
        "loaded_keras = tf.keras.models.load_model('wine_model.keras')\n",
        "loss, acc = loaded_keras.evaluate(test_dataset)\n",
        "print(f\"Keras (.keras) model accuracy: {acc:.4f}\")\n",
        "loaded_h5 = tf.keras.models.load_model('wine_model.h5')\n",
        "loss, acc = loaded_h5.evaluate(test_dataset)\n",
        "print(f\"HDF5 (.h5) model accuracy: {acc:.4f}\")\n"
      ]
    }
  ]
}