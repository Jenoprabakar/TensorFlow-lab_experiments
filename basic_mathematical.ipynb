{
  "nbformat": 4,
  "nbformat_minor": 0,
  "metadata": {
    "colab": {
      "provenance": [],
      "authorship_tag": "ABX9TyPHXYsJ1YzmW6m4j7Di/Yua",
      "include_colab_link": true
    },
    "kernelspec": {
      "name": "python3",
      "display_name": "Python 3"
    },
    "language_info": {
      "name": "python"
    }
  },
  "cells": [
    {
      "cell_type": "markdown",
      "metadata": {
        "id": "view-in-github",
        "colab_type": "text"
      },
      "source": [
        "<a href=\"https://colab.research.google.com/github/Jenoprabakar/TensorFlow-lab_experiments/blob/main/basic_mathematical.ipynb\" target=\"_parent\"><img src=\"https://colab.research.google.com/assets/colab-badge.svg\" alt=\"Open In Colab\"/></a>"
      ]
    },
    {
      "cell_type": "code",
      "execution_count": 4,
      "metadata": {
        "colab": {
          "base_uri": "https://localhost:8080/"
        },
        "id": "lYNfc3ulph5q",
        "outputId": "092968cb-69a5-43ff-a409-285a0acbd4b0"
      },
      "outputs": [
        {
          "output_type": "stream",
          "name": "stdout",
          "text": [
            "a+b= [5 7 9]\n",
            "a-b= [-3 -3 -3]\n",
            "a*b= [ 4 10 18]\n",
            "a/b= [0.25 0.4  0.5 ]\n",
            "a**2= [1 4 9]\n"
          ]
        }
      ],
      "source": [
        "import tensorflow as tf\n",
        "a=tf.constant([1,2,3])\n",
        "b=tf.constant([4,5,6])\n",
        "print(\"a+b=\",tf.add(a,b).numpy())\n",
        "print(\"a-b=\",tf.subtract(a,b).numpy())\n",
        "print(\"a*b=\",tf.multiply(a,b).numpy())\n",
        "print(\"a/b=\",tf.divide(a,b).numpy())\n",
        "print(\"a**2=\",tf.pow(a,2).numpy())\n",
        "\n",
        "\n"
      ]
    },
    {
      "cell_type": "code",
      "source": [
        "A = tf.constant([1, 2, 3, 4], dtype=tf.float32)\n",
        "A_reshaped = tf.reshape(A, (2, 2))\n",
        "C = tf.constant([[5.0, 6.0], [7.0, 8.0]])\n",
        "matmul1 = tf.matmul(A_reshaped, C)\n",
        "matmul2 = tf.linalg.matmul(A_reshaped, C)\n",
        "print(\"tf.matmul:\\n\", matmul1)\n",
        "print(\"tf.linalg.matmul:\\n\", matmul2)\n",
        "print(\"Shape of result:\", matmul1.shape)\n"
      ],
      "metadata": {
        "colab": {
          "base_uri": "https://localhost:8080/"
        },
        "id": "x-NnZdGCsUXO",
        "outputId": "2982eabb-2750-420a-f357-b2cec705d230"
      },
      "execution_count": 5,
      "outputs": [
        {
          "output_type": "stream",
          "name": "stdout",
          "text": [
            "tf.matmul:\n",
            " tf.Tensor(\n",
            "[[19. 22.]\n",
            " [43. 50.]], shape=(2, 2), dtype=float32)\n",
            "tf.linalg.matmul:\n",
            " tf.Tensor(\n",
            "[[19. 22.]\n",
            " [43. 50.]], shape=(2, 2), dtype=float32)\n",
            "Shape of result: (2, 2)\n"
          ]
        }
      ]
    },
    {
      "cell_type": "code",
      "source": [
        "import tensorflow as tf\n",
        "T = tf.constant([[-1.0, -0.5, 0.0], [0.5, 1.0, 2.0]], )\n",
        "print(\"Original Tensor :\", T)\n",
        "abs_T = tf.abs(T)\n",
        "print(\"\\nAbsolute Value:\", abs_T)\n",
        "safe_T_for_sqrt = tf.where(T < 0, tf.zeros_like(T), T)\n",
        "sqrt_T = tf.sqrt(safe_T_for_sqrt)\n",
        "print(\"\\nSquare Root:\\n\", sqrt_T)\n",
        "T_positive_only = tf.constant([[0.5, 1.0, 2.0]])\n",
        "log_T = tf.math.log(T_positive_only)\n",
        "print(\"\\nNatural Log:\\n\", log_T)\n",
        "exp_T = tf.exp(T)\n",
        "print(\"\\nExponential:\\n\", exp_T)\n",
        "sin_T = tf.sin(T)\n",
        "cos_T = tf.cos(T)\n",
        "print(\"\\nSine :\\n\", sin_T)\n",
        "print(\"\\nCosine :\\n\", cos_T)\n"
      ],
      "metadata": {
        "colab": {
          "base_uri": "https://localhost:8080/"
        },
        "id": "b691UHmxxCiG",
        "outputId": "43fdef58-913d-4f25-b086-940a409007b8"
      },
      "execution_count": 8,
      "outputs": [
        {
          "output_type": "stream",
          "name": "stdout",
          "text": [
            "Original Tensor : tf.Tensor(\n",
            "[[-1.  -0.5  0. ]\n",
            " [ 0.5  1.   2. ]], shape=(2, 3), dtype=float32)\n",
            "\n",
            "Absolute Value: tf.Tensor(\n",
            "[[1.  0.5 0. ]\n",
            " [0.5 1.  2. ]], shape=(2, 3), dtype=float32)\n",
            "\n",
            "Square Root:\n",
            " tf.Tensor(\n",
            "[[0.         0.         0.        ]\n",
            " [0.70710677 1.         1.4142135 ]], shape=(2, 3), dtype=float32)\n",
            "\n",
            "Natural Log:\n",
            " tf.Tensor([[-0.6931472  0.         0.6931472]], shape=(1, 3), dtype=float32)\n",
            "\n",
            "Exponential:\n",
            " tf.Tensor(\n",
            "[[0.36787945 0.60653067 1.        ]\n",
            " [1.6487212  2.7182817  7.389056  ]], shape=(2, 3), dtype=float32)\n",
            "\n",
            "Sine :\n",
            " tf.Tensor(\n",
            "[[-0.84147096 -0.47942555  0.        ]\n",
            " [ 0.47942555  0.84147096  0.9092974 ]], shape=(2, 3), dtype=float32)\n",
            "\n",
            "Cosine :\n",
            " tf.Tensor(\n",
            "[[ 0.5403023   0.87758255  1.        ]\n",
            " [ 0.87758255  0.5403023  -0.41614684]], shape=(2, 3), dtype=float32)\n"
          ]
        }
      ]
    },
    {
      "cell_type": "code",
      "source": [
        "import tensorflow as tf\n",
        "student_scores = tf.constant([[85, 90, 75],[92, 88, 80], [78, 95, 85]], dtype=tf.float32)\n",
        "subject_weights = tf.constant([0.4, 0.3, 0.3], dtype=tf.float32)\n",
        "weighted_scores = student_scores * subject_weights\n",
        "final_scores = tf.reduce_sum(weighted_scores, axis=1)\n",
        "print(\"Final Academic Scores for each student:\\n\", final_scores)\n"
      ],
      "metadata": {
        "colab": {
          "base_uri": "https://localhost:8080/"
        },
        "id": "I-mPfMA9yXmz",
        "outputId": "da4e65c6-9f3e-448e-bdf6-3f6c537014ea"
      },
      "execution_count": 9,
      "outputs": [
        {
          "output_type": "stream",
          "name": "stdout",
          "text": [
            "Final Academic Scores for each student:\n",
            " tf.Tensor([83.5      87.2      85.200005], shape=(3,), dtype=float32)\n"
          ]
        }
      ]
    }
  ]
}